{
 "cells": [
  {
   "cell_type": "markdown",
   "id": "52473038",
   "metadata": {},
   "source": [
    "# Demonstration: Reading and Plotting NXazint Files with plaid.nexus\n",
    "\n",
    "This notebook demonstrates how to read and plot NXazint HDF5 files using the `plaid.nexus` module."
   ]
  },
  {
   "cell_type": "code",
   "execution_count": null,
   "id": "68e05dd4",
   "metadata": {},
   "outputs": [],
   "source": [
    "# Import required libraries\n",
    "import os\n",
    "import h5py as h5\n",
    "import matplotlib.pyplot as plt\n",
    "import numpy as np\n",
    "from plaid.nexus import get_nx_entry, get_nx_default, get_nx_signal, get_nx_axes, get_nx_sample"
   ]
  },
  {
   "cell_type": "markdown",
   "id": "43122f0b",
   "metadata": {},
   "source": [
    "## Define functions for reading the data"
   ]
  },
  {
   "cell_type": "markdown",
   "id": "cc1cf325",
   "metadata": {},
   "source": [
    "Function for reading the 1d data"
   ]
  },
  {
   "cell_type": "code",
   "execution_count": null,
   "id": "64ae173b",
   "metadata": {},
   "outputs": [],
   "source": [
    "def get_azint1d_data(fname):\n",
    "    \"\"\"Get azimuthally integrated 1D data from a NeXus file.\"\"\"\n",
    "    with h5.File(fname, \"r\") as f:\n",
    "        azint1d = get_nx_entry(f,definition='NXazint1d')\n",
    "        if azint1d is None:\n",
    "            return None, None, (None, None)\n",
    "\n",
    "        # get the data group\n",
    "        data_gr = get_nx_default(azint1d)\n",
    "        \n",
    "        # get the axes group\n",
    "        axes_gr = get_nx_axes(data_gr)\n",
    "        x = axes_gr[-1][:]\n",
    "        x_label = axes_gr[-1].attrs.get('long_name','radial axis')\n",
    "        x_unit = axes_gr[-1].attrs.get('units','')\n",
    "        if x_unit:\n",
    "            x_label += f\" ({x_unit})\"\n",
    "            \n",
    "        # get the signal group\n",
    "        signal_gr = get_nx_signal(data_gr)\n",
    "        I = signal_gr[:]\n",
    "        I_label = signal_gr.attrs.get('long_name','intensity')\n",
    "        I_unit = signal_gr.attrs.get('units','')\n",
    "        if I_unit:\n",
    "            I_label += f\" ({I_unit})\"\n",
    "        return x, I, (x_label, I_label)"
   ]
  },
  {
   "cell_type": "markdown",
   "id": "9c9293b5",
   "metadata": {},
   "source": [
    "Function for reading the 2D data (azimuthally binned)"
   ]
  },
  {
   "cell_type": "code",
   "execution_count": null,
   "id": "600667a6",
   "metadata": {},
   "outputs": [],
   "source": [
    "def get_azint2d_data(fname):\n",
    "    \"\"\"Get azimuthally integrated 2D data from a NeXus file.\"\"\"\n",
    "    with h5.File(fname, \"r\") as f:\n",
    "        azint2d = get_nx_entry(f,definition='NXazint2d')\n",
    "        if azint2d is None:\n",
    "            return None, None, None, (None, None, None)\n",
    "\n",
    "        # get the data group\n",
    "        data_gr = get_nx_default(azint2d)\n",
    "        \n",
    "        # get the axes group\n",
    "        axes_gr = get_nx_axes(data_gr)\n",
    "        #  radial axis \n",
    "        x = axes_gr[-1][:]\n",
    "        x_label = axes_gr[-1].attrs.get('long_name','radial axis')\n",
    "        x_unit = axes_gr[-1].attrs.get('units','')\n",
    "        if x_unit:\n",
    "            x_label += f\" ({x_unit})\"\n",
    "        # azimuthal axis\n",
    "        azi = axes_gr[1][:]\n",
    "        azi_label = axes_gr[1].attrs.get('long_name','azimuthal axis')\n",
    "        azi_unit = axes_gr[1].attrs.get('units','')\n",
    "        if azi_unit:\n",
    "            azi_label += f\" ({azi_unit})\"\n",
    "            \n",
    "        # get the signal group\n",
    "        signal_gr = get_nx_signal(data_gr)\n",
    "        I = signal_gr[:]\n",
    "        I_label = signal_gr.attrs.get('long_name','intensity')\n",
    "        I_unit = signal_gr.attrs.get('units','')\n",
    "        if I_unit:\n",
    "            I_label += f\" ({I_unit})\"\n",
    "        return azi, x, I, (azi_label, x_label, I_label)"
   ]
  },
  {
   "cell_type": "markdown",
   "id": "322da5b6",
   "metadata": {},
   "source": [
    "Function for reading the sample data (sample name, time, temperature, etc)"
   ]
  },
  {
   "cell_type": "code",
   "execution_count": null,
   "id": "676c2d85",
   "metadata": {},
   "outputs": [],
   "source": [
    "def get_sample_data(fname):\n",
    "    \"\"\"Get sample data from a NeXus file.\"\"\"\n",
    "    with h5.File(fname, \"r\") as f:\n",
    "        entry = get_nx_entry(f)\n",
    "        sample = get_nx_sample(entry)\n",
    "        if sample is None:\n",
    "            return None, None\n",
    "        name = sample.get('name', '')\n",
    "        if name:\n",
    "            name = name[()]\n",
    "            if isinstance(name, bytes):\n",
    "                name = name.decode('utf-8')\n",
    "        sample_data = {}\n",
    "        for key in sample.keys():\n",
    "            if isinstance(sample[key], h5.Dataset) and sample[key].ndim > 0:\n",
    "                units = sample[key].attrs.get('units', '')\n",
    "                if units:\n",
    "                    label = f\"{key} ({units})\"\n",
    "                else:\n",
    "                    label = key\n",
    "                sample_data[label] = sample[key][:]\n",
    "        return name, sample_data"
   ]
  },
  {
   "cell_type": "markdown",
   "id": "b1269e94",
   "metadata": {},
   "source": [
    "## Read and plot the data"
   ]
  },
  {
   "cell_type": "markdown",
   "id": "1ca1c29b",
   "metadata": {},
   "source": [
    "Read the sample name and data"
   ]
  },
  {
   "cell_type": "code",
   "execution_count": null,
   "id": "db050b59",
   "metadata": {},
   "outputs": [],
   "source": [
    "# Define the file name (change this to your own file if needed)\n",
    "fname = \"tests/scan-0100_multi_demo.h5\"\n",
    "\n",
    "## Read the sample data\n",
    "name, sample_data = get_sample_data(fname)"
   ]
  },
  {
   "cell_type": "markdown",
   "id": "1c66c3ea",
   "metadata": {},
   "source": [
    "Plot the sample data (temperature vs time)"
   ]
  },
  {
   "cell_type": "code",
   "execution_count": null,
   "id": "6d274340",
   "metadata": {},
   "outputs": [],
   "source": [
    "plt.figure()\n",
    "plt.title(name)\n",
    "time = sample_data.pop('time (s)', None)\n",
    "for label, data in sample_data.items():\n",
    "    if time is not None and len(time) == len(data):\n",
    "        plt.plot(time,data, label=label)\n",
    "        plt.xlabel('time (s)')\n",
    "    else:\n",
    "        plt.plot(data, label=label)\n",
    "plt.legend()\n",
    "plt.show()"
   ]
  },
  {
   "cell_type": "markdown",
   "id": "44b537a7",
   "metadata": {},
   "source": [
    "Read the 1D data"
   ]
  },
  {
   "cell_type": "code",
   "execution_count": null,
   "id": "b16cbd56",
   "metadata": {},
   "outputs": [],
   "source": [
    "## Read the azimuthally integrated 1D data\n",
    "x, I, (x_label, I_label) = get_azint1d_data(fname)"
   ]
  },
  {
   "cell_type": "markdown",
   "id": "03dd8199",
   "metadata": {},
   "source": [
    "Plot the few of the 1D diffraction patterns with an offset along the y-axis"
   ]
  },
  {
   "cell_type": "code",
   "execution_count": null,
   "id": "bfaa4e7f",
   "metadata": {},
   "outputs": [],
   "source": [
    "plt.figure()\n",
    "plt.title(name)\n",
    "offset = 0\n",
    "for i in np.linspace(0,I.shape[0]-1,min(6,I.shape[0])).astype(int):\n",
    "    plt.plot(x,I[i,:]+offset,label=f\"frame {i}\")\n",
    "    offset += np.max(I)*0.1\n",
    "plt.legend()\n",
    "plt.xlabel(x_label)\n",
    "plt.show()"
   ]
  },
  {
   "cell_type": "markdown",
   "id": "a7d4ce43",
   "metadata": {},
   "source": [
    "Read the 2D data"
   ]
  },
  {
   "cell_type": "code",
   "execution_count": null,
   "id": "53c3e33b",
   "metadata": {},
   "outputs": [],
   "source": [
    "## Read the azimuthally binned 2D data\n",
    "azi, x, I, (azi_label, x_label, I_label) = get_azint2d_data(fname)"
   ]
  },
  {
   "cell_type": "markdown",
   "id": "b28e8d6a",
   "metadata": {},
   "source": [
    "Plot the average binned diffraction data (\"cake\") as a heatmap"
   ]
  },
  {
   "cell_type": "code",
   "execution_count": null,
   "id": "9cc74151",
   "metadata": {},
   "outputs": [],
   "source": [
    "plt.figure()\n",
    "plt.title(name)\n",
    "plt.pcolormesh(x,azi,np.mean(I,axis=0),shading='auto')\n",
    "plt.xlabel(x_label)\n",
    "plt.ylabel(azi_label)\n",
    "plt.title(I_label)\n",
    "plt.colorbar(label=I_label)\n",
    "plt.show()"
   ]
  }
 ],
 "metadata": {
  "kernelspec": {
   "display_name": ".venv",
   "language": "python",
   "name": "python3"
  },
  "language_info": {
   "codemirror_mode": {
    "name": "ipython",
    "version": 3
   },
   "file_extension": ".py",
   "mimetype": "text/x-python",
   "name": "python",
   "nbconvert_exporter": "python",
   "pygments_lexer": "ipython3",
   "version": "3.12.3"
  }
 },
 "nbformat": 4,
 "nbformat_minor": 5
}
